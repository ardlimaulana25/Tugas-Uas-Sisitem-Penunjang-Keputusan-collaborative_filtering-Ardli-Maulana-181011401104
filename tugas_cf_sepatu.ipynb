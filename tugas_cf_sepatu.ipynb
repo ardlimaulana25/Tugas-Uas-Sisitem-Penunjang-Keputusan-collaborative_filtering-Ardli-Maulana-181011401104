{
 "cells": [
  {
   "cell_type": "code",
   "execution_count": 16,
   "metadata": {},
   "outputs": [
    {
     "name": "stdout",
     "output_type": "stream",
     "text": [
      "            Arif  Rani   Edi   Sanjaya      Bejo\n",
      "Adidas      0.36  0.56 -0.24 -0.440000 -0.240000\n",
      "Nike        0.60  0.20 -0.40  0.000000 -0.400000\n",
      "Bata        0.40  0.40 -0.60 -0.266667  0.066667\n",
      "Tomkins    -0.65 -0.15  0.35  0.350000  0.100000\n",
      "Ventela    -0.08 -0.08  0.52 -0.480000  0.120000\n",
      "Aerostreet -0.35 -0.60  0.40  0.150000  0.400000\n"
     ]
    },
    {
     "data": {
      "text/plain": [
       "Adidas        2.478594\n",
       "Nike          1.949801\n",
       "Bata          1.806123\n",
       "Ventela       0.284432\n",
       "Aerostreet   -2.167615\n",
       "Tomkins      -2.226608\n",
       "dtype: float64"
      ]
     },
     "execution_count": 16,
     "metadata": {},
     "output_type": "execute_result"
    }
   ],
   "source": [
    "import pandas as pd\n",
    "from scipy import sparse\n",
    "from sklearn.metrics.pairwise import cosine_similarity\n",
    "ratings=pd.read_csv(\"sepatu.csv\",index_col=0)\n",
    "ratings.fillna(0, inplace=True)\n",
    "ratings\n",
    "\n",
    "def standardize(row):\n",
    "    new_row = (row - row.mean())/(row.max()-row.min())\n",
    "    return new_row\n",
    "\n",
    "df_std = ratings.apply(standardize).T\n",
    "print(df_std)\n",
    "\n",
    "sparse_df = sparse.csr_matrix(df_std.values)\n",
    "corrMatrix = pd.DataFrame(cosine_similarity(sparse_df),index=ratings.columns,columns=ratings.columns)\n",
    "corrMatrix\n",
    "\n",
    "\n",
    "corrMatrix = ratings.corr(method='pearson')\n",
    "corrMatrix.head(6)\n",
    "\n",
    "def get_similar(merk_sepatu,rating):\n",
    "    similar_score = corrMatrix[merk_sepatu]*(rating-2.5)\n",
    "    similar_score = similar_score.sort_values(ascending=False)\n",
    "    #print(type(similar_ratings))\n",
    "    return similar_score\n",
    "\n",
    "action_lover = [(\"Adidas\",5),(\"Bata\",1),(\"Tomkins\",1)]\n",
    "similar_scores = pd.DataFrame()\n",
    "for movie,rating in action_lover:\n",
    "    similar_scores = similar_scores.append(get_similar(movie,rating),ignore_index = True)\n",
    "\n",
    "similar_scores.head(10)\n",
    "\n",
    "similar_scores.sum().sort_values(ascending=False)"
   ]
  },
  {
   "cell_type": "code",
   "execution_count": null,
   "metadata": {},
   "outputs": [],
   "source": []
  }
 ],
 "metadata": {
  "kernelspec": {
   "display_name": "Python 3",
   "language": "python",
   "name": "python3"
  },
  "language_info": {
   "codemirror_mode": {
    "name": "ipython",
    "version": 3
   },
   "file_extension": ".py",
   "mimetype": "text/x-python",
   "name": "python",
   "nbconvert_exporter": "python",
   "pygments_lexer": "ipython3",
   "version": "3.7.0"
  }
 },
 "nbformat": 4,
 "nbformat_minor": 2
}
